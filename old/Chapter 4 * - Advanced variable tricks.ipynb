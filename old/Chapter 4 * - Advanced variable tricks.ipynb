{
 "cells": [
  {
   "cell_type": "markdown",
   "metadata": {},
   "source": [
    "### Special things for text based variables\n",
    "\n",
    "Often we work with text based variables, thus there are some common tricks you can use with them\n",
    "\n",
    "* make them upper or lower case `'cat'.upper()`\n",
    "* split them based on a particular character `'cat has a tail'.split(' ')`\n",
    "* remove certain characters `'cat'.replace('a','A')`\n",
    "* remove spaces in the end and begin `'   has space   '.strip()`\n",
    "* choose only parts of the text `'cats are nice'[0:3]`\n",
    "* count the number of letters (or text things) `'cats are nice'.count('a')`\n",
    "* transform a text to number: `int('5')`\n",
    " * Test the difference of `'5'+'3'` and `int('5')+int('3')`"
   ]
  },
  {
   "cell_type": "markdown",
   "metadata": {},
   "source": [
    "**Onboarding**\n",
    "\n",
    "* Test the examples above."
   ]
  },
  {
   "cell_type": "code",
   "execution_count": null,
   "metadata": {
    "collapsed": true
   },
   "outputs": [],
   "source": []
  },
  {
   "cell_type": "markdown",
   "metadata": {},
   "source": [
    "### Making logical rules easier to understand\n",
    "\n",
    "Often people end up having more complex rules for their sentences. For example, to be happy, I want it to be sunny and warm\n",
    "\n",
    "```\n",
    "if weather == 'sunny':\n",
    "   if temperature > 15:\n",
    "      print 'Matti is happy'\n",
    "```\n",
    "      \n",
    "But this is rather complicated. How about this?\n",
    "\n",
    "```\n",
    "if weather == 'sunny' and temperature > 15:\n",
    "    print 'Matti is happy'\n",
    "```\n",
    "\n",
    "The latter part uses special command `and` to connect the two logical statements `weather == 'sunny'` and `temperature > 15` and is `True` only of both of these are `True`. There are also commands `or` and `not` which work in similar manner. "
   ]
  },
  {
   "cell_type": "markdown",
   "metadata": {},
   "source": [
    "**Onboarding**\n",
    "\n",
    "* How many Finnish prime ministers have both letters `a` and `e` in their name?"
   ]
  },
  {
   "cell_type": "code",
   "execution_count": null,
   "metadata": {
    "collapsed": true
   },
   "outputs": [],
   "source": []
  }
 ],
 "metadata": {
  "kernelspec": {
   "display_name": "Python 2",
   "language": "python",
   "name": "python2"
  },
  "language_info": {
   "codemirror_mode": {
    "name": "ipython",
    "version": 2
   },
   "file_extension": ".py",
   "mimetype": "text/x-python",
   "name": "python",
   "nbconvert_exporter": "python",
   "pygments_lexer": "ipython2",
   "version": "2.7.13"
  },
  "widgets": {
   "state": {},
   "version": "1.1.2"
  }
 },
 "nbformat": 4,
 "nbformat_minor": 0
}
