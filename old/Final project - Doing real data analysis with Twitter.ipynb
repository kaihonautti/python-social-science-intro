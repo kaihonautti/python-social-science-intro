{
 "cells": [
  {
   "cell_type": "code",
   "execution_count": 1,
   "metadata": {
    "collapsed": false
   },
   "outputs": [
    {
     "name": "stdout",
     "output_type": "stream",
     "text": [
      "<tweepy.api.API object at 0x108729e10>\n"
     ]
    }
   ],
   "source": [
    "## example Twitter data loading, create a Twitter API case\n",
    "\n",
    "import tweepy\n",
    "\n",
    "consumer_key = \"\"\n",
    "consumer_secret = \"\"\n",
    "key = \"\"\n",
    "secret = \"\"\n",
    "\n",
    "auth = tweepy.OAuthHandler(consumer_key, consumer_secret)\n",
    "auth.set_access_token(key, secret)\n",
    "\n",
    "api = tweepy.API(auth)\n",
    "\n",
    "print api"
   ]
  },
  {
   "cell_type": "code",
   "execution_count": 10,
   "metadata": {
    "collapsed": false
   },
   "outputs": [
    {
     "name": "stdout",
     "output_type": "stream",
     "text": [
      "381\n",
      "657\n",
      "474\n"
     ]
    }
   ],
   "source": [
    "## collect data from bunch of users\n",
    "\n",
    "usernames = ['juhasipila', 'PetteriOrpo', 'AnttiRinnepj'] #, 'liandersson', 'VilleNiinisto', \"anna_maja\", 'SariEssayah']\n",
    "\n",
    "tweets_all = []\n",
    "\n",
    "for username in usernames:\n",
    "    \n",
    "    tweets_this_user = []\n",
    "    \n",
    "    tweets_this_user += api.user_timeline( username , count = 100 )\n",
    "\n",
    "    for i in range(1,30): ## for 30 times, we can get up to 3000 tweets\n",
    "        max_id = tweets_this_user[-1].id\n",
    "        tweets = api.user_timeline( username , count = 100, max_id = max_id - 1 )\n",
    "        \n",
    "        tweets_this_user += tweets\n",
    "\n",
    "    print len( tweets_this_user )\n",
    "    \n",
    "    tweets_all += tweets_this_user\n",
    "    \n",
    "## store these as json (=> download just once)\n",
    "\n",
    "import json\n",
    "\n",
    "jsons = []\n",
    "\n",
    "for t in tweets_all:\n",
    "    \n",
    "    jsons.append( t._json )\n",
    "    \n",
    "json.dump( jsons , open('puheenjohtajat.json', 'w') )"
   ]
  },
  {
   "cell_type": "code",
   "execution_count": 2,
   "metadata": {
    "collapsed": false
   },
   "outputs": [
    {
     "ename": "NameError",
     "evalue": "name 'json' is not defined",
     "output_type": "error",
     "traceback": [
      "\u001b[0;31m---------------------------------------------------------------------------\u001b[0m",
      "\u001b[0;31mNameError\u001b[0m                                 Traceback (most recent call last)",
      "\u001b[0;32m<ipython-input-2-bdfcfbab8973>\u001b[0m in \u001b[0;36m<module>\u001b[0;34m()\u001b[0m\n\u001b[0;32m----> 1\u001b[0;31m \u001b[0mdata\u001b[0m \u001b[0;34m=\u001b[0m \u001b[0mjson\u001b[0m\u001b[0;34m.\u001b[0m\u001b[0mload\u001b[0m\u001b[0;34m(\u001b[0m \u001b[0mopen\u001b[0m\u001b[0;34m(\u001b[0m\u001b[0;34m'puheenjohtajat.json'\u001b[0m\u001b[0;34m)\u001b[0m \u001b[0;34m)\u001b[0m\u001b[0;34m\u001b[0m\u001b[0m\n\u001b[0m\u001b[1;32m      2\u001b[0m \u001b[0;32mfor\u001b[0m \u001b[0mtweet\u001b[0m \u001b[0;32min\u001b[0m \u001b[0mdata\u001b[0m\u001b[0;34m:\u001b[0m\u001b[0;34m\u001b[0m\u001b[0m\n\u001b[1;32m      3\u001b[0m     \u001b[0;32mprint\u001b[0m \u001b[0mtweet\u001b[0m\u001b[0;34m\u001b[0m\u001b[0m\n",
      "\u001b[0;31mNameError\u001b[0m: name 'json' is not defined"
     ]
    }
   ],
   "source": [
    "import json\n",
    "data = json.load( open('puheenjohtajat.json') )\n",
    "for tweet in data:\n",
    "    print tweet"
   ]
  },
  {
   "cell_type": "code",
   "execution_count": null,
   "metadata": {
    "collapsed": true
   },
   "outputs": [],
   "source": []
  }
 ],
 "metadata": {
  "kernelspec": {
   "display_name": "Python 2",
   "language": "python",
   "name": "python2"
  },
  "language_info": {
   "codemirror_mode": {
    "name": "ipython",
    "version": 2
   },
   "file_extension": ".py",
   "mimetype": "text/x-python",
   "name": "python",
   "nbconvert_exporter": "python",
   "pygments_lexer": "ipython2",
   "version": "2.7.13"
  }
 },
 "nbformat": 4,
 "nbformat_minor": 0
}
