{
 "cells": [
  {
   "cell_type": "markdown",
   "metadata": {},
   "source": [
    "### Variables and loops\n",
    "\n",
    "There are different approaches to use loops. The most common one is to use loop to store values, like _sum of variables_, _count of variables_, _select part of variables_ (among others)."
   ]
  },
  {
   "cell_type": "code",
   "execution_count": 1,
   "metadata": {
    "collapsed": false
   },
   "outputs": [
    {
     "name": "stdout",
     "output_type": "stream",
     "text": [
      "63\n"
     ]
    }
   ],
   "source": [
    "total = 0 ## start counting the sum from zero\n",
    "for current_number in [1,2,4,8,16,32]:\n",
    "    total = total + current_number  ## total is always the existing total + the current number\n",
    "                                    ## could also be total += current_number\n",
    "print total"
   ]
  },
  {
   "cell_type": "markdown",
   "metadata": {},
   "source": [
    "**Onboarding**\n",
    "\n",
    "* What is the sum of selected decimals of π?\n",
    "* What is the avarange population of Finland in 2016? The monthly numbers are stored in `./data/finnish_population.txt`? See the example code below.\n",
    "* How many different governments Finland has had? A different government here is defined by having a different prime minister than the previous prime minister. The file `./data/prime_ministers.txt` is already presented in format that the governments with same prime minister have not been repeated."
   ]
  },
  {
   "cell_type": "code",
   "execution_count": null,
   "metadata": {
    "collapsed": true
   },
   "outputs": [],
   "source": []
  },
  {
   "cell_type": "code",
   "execution_count": 1,
   "metadata": {
    "collapsed": true
   },
   "outputs": [],
   "source": [
    "for line in open('./data/finnish_population.txt'):\n",
    "    population = int(line) ## transforms the text to a number"
   ]
  },
  {
   "cell_type": "markdown",
   "metadata": {},
   "source": [
    "### Conditions and if\n",
    "\n",
    "Furthermore, it is possible to branch the code based on various **conditions**. This means that some code is executed only if a condition is true.\n",
    "\n",
    "![](./pictures/if_less_than_zero.png)\n",
    "\n",
    "In Python this is done like this\n",
    "\n",
    "```if (condition):\n",
    "    commands\n",
    "```\n",
    "\n",
    "We use similar intention used also with the for-loop.\n",
    "\n",
    "There are various logical operations, such as `>`, `<`, `>=`, `<=`. Note that to check equality, you need to use `==` instead of `=` (which is used only to say that variable should have a value)."
   ]
  },
  {
   "cell_type": "code",
   "execution_count": 3,
   "metadata": {
    "collapsed": false
   },
   "outputs": [
    {
     "name": "stdout",
     "output_type": "stream",
     "text": [
      "2\n",
      "4\n",
      "6\n",
      "8\n",
      "10\n"
     ]
    }
   ],
   "source": [
    "for number in [1,2,3,4,5,6,7,8,9,10]:\n",
    "    if number % 2 == 0: ## can be divided with two?\n",
    "        print number"
   ]
  },
  {
   "cell_type": "code",
   "execution_count": 4,
   "metadata": {
    "collapsed": false
   },
   "outputs": [
    {
     "name": "stdout",
     "output_type": "stream",
     "text": [
      "Here is an example\n",
      "Here is an example HAS IS\n",
      "Here is another example\n",
      "Here is another example HAS IS\n",
      "But those aren't good examples\n"
     ]
    }
   ],
   "source": [
    "for sentence in [\"Here is an example\", \"Here is another example\", \"But those aren't good examples\"]:\n",
    "    print sentence\n",
    "    if 'is' in sentence:\n",
    "        print sentence, \"HAS IS\""
   ]
  },
  {
   "cell_type": "markdown",
   "metadata": {},
   "source": [
    "**Onboarding**\n",
    "\n",
    "* Which of the population counts in file `./data/finnish_population.txt` are above the avarage?\n",
    "* How many Finnish prime ministers (`./data/prime_ministers.txt`) do not have an letter `e` in their name?"
   ]
  },
  {
   "cell_type": "code",
   "execution_count": null,
   "metadata": {
    "collapsed": true
   },
   "outputs": [],
   "source": []
  }
 ],
 "metadata": {
  "kernelspec": {
   "display_name": "Python 2",
   "language": "python",
   "name": "python2"
  },
  "language_info": {
   "codemirror_mode": {
    "name": "ipython",
    "version": 2
   },
   "file_extension": ".py",
   "mimetype": "text/x-python",
   "name": "python",
   "nbconvert_exporter": "python",
   "pygments_lexer": "ipython2",
   "version": "2.7.13"
  },
  "widgets": {
   "state": {},
   "version": "1.1.2"
  }
 },
 "nbformat": 4,
 "nbformat_minor": 0
}
