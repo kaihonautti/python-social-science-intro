{
 "cells": [
  {
   "cell_type": "markdown",
   "metadata": {},
   "source": [
    "This material covers the basics of Python programming and gives an idea of\n",
    "\n",
    "* variables\n",
    "* loops\n",
    "* condition structures\n",
    "* functions\n",
    "* data structures"
   ]
  },
  {
   "cell_type": "markdown",
   "metadata": {},
   "source": [
    "### One day workshop\n",
    "\n",
    "Before the workshop, try out\n",
    "\n",
    "* [Code.org: The Artist](https://studio.code.org/s/20-hour/stage/5/puzzle/1)\n",
    "* [Code.org: The Artist 2](https://studio.code.org/s/20-hour/stage/7/puzzle/1)\n",
    "* [Code.org: The Artist 3](https://studio.code.org/s/20-hour/stage/11/puzzle/1)\n",
    "\n",
    "Proceed with Python in following order:\n",
    "\n",
    "1. Chapter 1 - introduce the concept of variables\n",
    "1. Chapter 2 - introduce the concept of loops\n",
    "1. Chapter 3 - elaborate the concept of loops and introduce the concept of control structure\n",
    "1. Applied work 1\n",
    "1. Applied work 2\n",
    "1. *Voluntary tasks, if you're interested:*\n",
    " * Chapter 4 - learn how to work with variables\n",
    " * Chapter 5 - how to use functions\n",
    " * Applied work 3\n",
    " * Chapter 6 - how to use lists and dictonaries\n",
    " * Applied work 4\n",
    " * Chapter 7 - working with files\n",
    " * Chapter 8 - downloading things from the Internet\n",
    "\n",
    "1. Everyone should try out the Final project.\n"
   ]
  },
  {
   "cell_type": "code",
   "execution_count": null,
   "metadata": {
    "collapsed": true
   },
   "outputs": [],
   "source": []
  }
 ],
 "metadata": {
  "kernelspec": {
   "display_name": "Python 2",
   "language": "python",
   "name": "python2"
  },
  "language_info": {
   "codemirror_mode": {
    "name": "ipython",
    "version": 2
   },
   "file_extension": ".py",
   "mimetype": "text/x-python",
   "name": "python",
   "nbconvert_exporter": "python",
   "pygments_lexer": "ipython2",
   "version": "2.7.13"
  },
  "widgets": {
   "state": {},
   "version": "1.1.2"
  }
 },
 "nbformat": 4,
 "nbformat_minor": 0
}
