{
 "cells": [
  {
   "cell_type": "markdown",
   "metadata": {},
   "source": [
    "Various things stored in the computer can be displayed to users via *printing* them. In Pythn this is done via the command `print`."
   ]
  },
  {
   "cell_type": "code",
   "execution_count": null,
   "metadata": {
    "collapsed": false
   },
   "outputs": [],
   "source": [
    "print 5\n",
    "print 20\n",
    "print 7"
   ]
  },
  {
   "cell_type": "markdown",
   "metadata": {},
   "source": [
    "**Onboarding**\n",
    "\n",
    "* Print your age\n",
    "* Print this year\n",
    "* Print 5 - 3\n",
    "* Print 5 / 2.0"
   ]
  },
  {
   "cell_type": "code",
   "execution_count": null,
   "metadata": {
    "collapsed": true
   },
   "outputs": [],
   "source": []
  },
  {
   "cell_type": "markdown",
   "metadata": {},
   "source": [
    "Programming can do much more than just printing numbers and doing computations. We can for example print also text!"
   ]
  },
  {
   "cell_type": "code",
   "execution_count": null,
   "metadata": {
    "collapsed": false
   },
   "outputs": [],
   "source": [
    "print \"Hello world\"\n",
    "print \"I'm coding!\"\n",
    "print \"I'm coding!\".upper() ## also .lower()"
   ]
  },
  {
   "cell_type": "markdown",
   "metadata": {},
   "source": [
    "Things can also be stored into computers \"short term\" memory through variables."
   ]
  },
  {
   "cell_type": "code",
   "execution_count": null,
   "metadata": {
    "collapsed": false
   },
   "outputs": [],
   "source": [
    "x = 7\n",
    "print \"x is now\", x\n",
    "x = 10\n",
    "print \"x is now\", x"
   ]
  },
  {
   "cell_type": "markdown",
   "metadata": {},
   "source": [
    "Your usual operations, like `+`, `-`, `*`, `/`, `**` (power) and `%` (reminder of division) can be used."
   ]
  },
  {
   "cell_type": "code",
   "execution_count": null,
   "metadata": {
    "collapsed": false
   },
   "outputs": [],
   "source": [
    "x = 5\n",
    "y = x + 5\n",
    "\n",
    "print \"x is now\", x\n",
    "print \"y is now\", y\n",
    "\n",
    "## this is a comment. it is never executed\n",
    "## here we increase x by one\n",
    "## what happens to y? why?\n",
    "\n",
    "x = x + 1\n",
    "print \"x is now\", x\n",
    "print \"y is now\", y"
   ]
  },
  {
   "cell_type": "markdown",
   "metadata": {},
   "source": [
    "**Onboarding**\n",
    "\n",
    "* Create a new variable and store this year to it\n",
    "* Create another variable and store your birth year to it\n",
    "* Using these two variables, compute your age to a new variable and print it\n",
    "* How about five years to the future?"
   ]
  },
  {
   "cell_type": "code",
   "execution_count": null,
   "metadata": {
    "collapsed": true
   },
   "outputs": [],
   "source": []
  },
  {
   "cell_type": "markdown",
   "metadata": {},
   "source": [
    "**Note:** Replacing the variable with itself\n",
    "\n",
    "You might be misguided by the command `x=x+1` present above. It is a way to say that we give the variable a new value that is it's old value plus one. Similarly the command `sum = sum + x` would increase the `sum` by `x`. This looks usually _confusing_ in the begin but you'll get familiar with the idea of replacing a variable with the variable some day.\n",
    "\n",
    "This is similar to the activity of _changing_ a variable, for example here we \"increase\" a variable of the current direction variable by 90.\n",
    "\n",
    "![](./pictures/variable_change.png)\n",
    "\n",
    "As this is rather common in programming, we can also write `x += 1` (or `-=`, `*=` and `/=`) to express it more shortly."
   ]
  },
  {
   "cell_type": "code",
   "execution_count": null,
   "metadata": {
    "collapsed": true
   },
   "outputs": [],
   "source": []
  }
 ],
 "metadata": {
  "kernelspec": {
   "display_name": "Python 2",
   "language": "python",
   "name": "python2"
  },
  "language_info": {
   "codemirror_mode": {
    "name": "ipython",
    "version": 2
   },
   "file_extension": ".py",
   "mimetype": "text/x-python",
   "name": "python",
   "nbconvert_exporter": "python",
   "pygments_lexer": "ipython2",
   "version": "2.7.13"
  },
  "widgets": {
   "state": {},
   "version": "1.1.2"
  }
 },
 "nbformat": 4,
 "nbformat_minor": 0
}
