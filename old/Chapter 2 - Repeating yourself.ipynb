{
 "cells": [
  {
   "cell_type": "markdown",
   "metadata": {},
   "source": [
    "There is often a need to repeate same ideas over and over againg. Thats why **loopping** structures exists for programming languages. In the Studio, following command was used:\n",
    "\n",
    "![](./pictures/loop.png)\n",
    "\n",
    "Note how the commands which are repeated are \"inside\" the looping command. The moving forward and turning right are repeated four times, however setting the color is not.\n",
    "\n",
    "In Python, the structure looks following:\n",
    "```for (variable name) in (thing that can be iterated):\n",
    "   command to be repeated\n",
    "```\n",
    "\n",
    "For example, to print numbers 1,2,4,8,16,32, we need to make them a thing which can be iterated and then use those in the for-loop:"
   ]
  },
  {
   "cell_type": "code",
   "execution_count": 2,
   "metadata": {
    "collapsed": false
   },
   "outputs": [
    {
     "name": "stdout",
     "output_type": "stream",
     "text": [
      "1\n",
      "2\n",
      "4\n",
      "8\n",
      "16\n",
      "32\n"
     ]
    }
   ],
   "source": [
    "for current_number in [1,2,4,8,16,32]:\n",
    "    print current_number"
   ]
  },
  {
   "cell_type": "markdown",
   "metadata": {},
   "source": [
    "Things which can be iterated take place in various forms. One of them is file, which we can address in line-by-line manner. Also a word is a thing that can be iterated, as it _actually_ is just a list of characters.\n",
    "\n",
    "For example"
   ]
  },
  {
   "cell_type": "code",
   "execution_count": 2,
   "metadata": {
    "collapsed": false
   },
   "outputs": [
    {
     "name": "stdout",
     "output_type": "stream",
     "text": [
      "H\n",
      "e\n",
      "l\n",
      "l\n",
      "o\n",
      " \n",
      "w\n",
      "o\n",
      "r\n",
      "l\n",
      "d\n"
     ]
    }
   ],
   "source": [
    "for current_letter in 'Hello world':\n",
    "    print current_letter"
   ]
  },
  {
   "cell_type": "code",
   "execution_count": 4,
   "metadata": {
    "collapsed": false
   },
   "outputs": [
    {
     "name": "stdout",
     "output_type": "stream",
     "text": [
      "P. E. Svinhufvud\n",
      "J. K. Paasikivi\n",
      "L. Ingman\n",
      "K. Castrén\n",
      "J. H. Vennola\n",
      "R. Erich\n",
      "J. H. Vennola\n",
      "A. K. Cajander\n",
      "K. Kallio\n",
      "A. K. Cajander\n",
      "L. Ingman\n",
      "A. Tulenheimo\n",
      "K. Kallio\n",
      "V. Tanner\n",
      "J. E. Sunila\n",
      "O. Mantere\n",
      "K. Kallio\n",
      "P. E. Svinhufvud\n",
      "J. E. Sunila\n",
      "T. M. Kivimäki\n",
      "K. Kallio\n",
      "A. K. Cajander\n",
      "R. Ryti\n",
      "J. Rangell\n",
      "E. Linkomies\n",
      "A. Hackzell\n",
      "U. Castrén\n",
      "J. K. Paasikivi\n",
      "M. Pekkala\n",
      "K.-A. Fagerholm\n",
      "U. Kekkonen\n",
      "S. Tuomioja\n",
      "R. Törngren\n",
      "U. Kekkonen\n",
      "K.-A. Fagerholm\n",
      "V. J. Sukselainen\n",
      "R. von Fieandt\n",
      "R. Kuuskoski\n",
      "K.-A. Fagerholm\n",
      "V. J. Sukselainen\n",
      "M. Miettunen\n",
      "A. Karjalaine\n",
      "J. Virolainen\n",
      "R. Paasio\n",
      "M. Koivisto\n",
      "T. Aura\n",
      "A. Karjalainen\n",
      "T. Aura\n",
      "R. Paasio\n",
      "K. Sorsa\n",
      "K. Liinamaa\n",
      "M. Miettunen\n",
      "K. Sorsa\n",
      "M. Koivisto\n",
      "K. Sorsa\n",
      "H. Holkeri\n",
      "E. Aho\n",
      "P. Lipponen\n",
      "A. Jäätteenmäki\n",
      "M. Vanhanen\n",
      "J. Katainen\n",
      "A. Stubb\n",
      "J. Sipilä\n"
     ]
    }
   ],
   "source": [
    "for line_in_file in open('./data/prime_ministers.txt').readlines():\n",
    "    line_in_file = line_in_file.strip() ## remove extra spaces in the end and begin of the text\n",
    "                                        ## remember to do this all the times when working with files.\n",
    "    print line_in_file"
   ]
  },
  {
   "cell_type": "markdown",
   "metadata": {},
   "source": [
    "**Onboarding**\n",
    "\n",
    "* File `./data/pii.txt` contains some decimals of π. Print them, one decimal at a time.\n",
    "* For numbers 7, 9, 3, 6, 8 print the double of that number."
   ]
  },
  {
   "cell_type": "markdown",
   "metadata": {},
   "source": []
  }
 ],
 "metadata": {
  "kernelspec": {
   "display_name": "Python 2",
   "language": "python",
   "name": "python2"
  },
  "language_info": {
   "codemirror_mode": {
    "name": "ipython",
    "version": 2
   },
   "file_extension": ".py",
   "mimetype": "text/x-python",
   "name": "python",
   "nbconvert_exporter": "python",
   "pygments_lexer": "ipython2",
   "version": "2.7.13"
  },
  "widgets": {
   "state": {},
   "version": "1.1.2"
  }
 },
 "nbformat": 4,
 "nbformat_minor": 0
}
