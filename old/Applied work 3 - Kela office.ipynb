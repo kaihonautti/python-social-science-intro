{
 "cells": [
  {
   "cell_type": "markdown",
   "metadata": {},
   "source": [
    "### Working in Kela\n",
    "\n",
    "* Define a function, which takes the number of student grant months as input and calculates based on that the maximum income for the student in that year. See Kela page http://www.kela.fi/web/en/student-s-own-income for details.\n",
    "* Count the total maximum income for 1...12 months (remember to use foor loop when going through the list of monthly incomes).\n",
    "* Define a function, which takes the monthly rent paid by the student and returns the housing supplement based on that income. See Kela page http://www.kela.fi/web/en/housing-supplement-amount-and-payment for details.\n",
    "* Count the total housing supplement per month for rents of 150, 200, 250 and 300 (remember to use foor loop when going through the list of monthly incomes)."
   ]
  },
  {
   "cell_type": "code",
   "execution_count": 2,
   "metadata": {
    "collapsed": true
   },
   "outputs": [],
   "source": [
    "def students_income( aid_months ):\n",
    "    return 0"
   ]
  },
  {
   "cell_type": "code",
   "execution_count": 3,
   "metadata": {
    "collapsed": false
   },
   "outputs": [
    {
     "name": "stdout",
     "output_type": "stream",
     "text": [
      "1 months, maximum allowed income:  0\n",
      "12 months, maximum allowed income:  0\n"
     ]
    }
   ],
   "source": [
    "for months in [1,12]:\n",
    "    print months, 'months, maximum allowed income: ', students_income( months )"
   ]
  },
  {
   "cell_type": "code",
   "execution_count": null,
   "metadata": {
    "collapsed": true
   },
   "outputs": [],
   "source": []
  },
  {
   "cell_type": "code",
   "execution_count": null,
   "metadata": {
    "collapsed": true
   },
   "outputs": [],
   "source": []
  },
  {
   "cell_type": "markdown",
   "metadata": {},
   "source": [
    "#### Why are we using functions here?\n",
    "\n",
    "1. Functions are usuful tool to separate the task into sub-tasks you can easily manage.\n",
    "1. Functions allow you to separate some parts of the logic into a place where it can be changed easily (compared with: you had copypasted the same calculation routines of student's own income to several places in your program, and then the laws change)\n",
    "1. Sometimes they make the code cleaner and thus easier to work on later on."
   ]
  }
 ],
 "metadata": {
  "kernelspec": {
   "display_name": "Python 2",
   "language": "python",
   "name": "python2"
  },
  "language_info": {
   "codemirror_mode": {
    "name": "ipython",
    "version": 2
   },
   "file_extension": ".py",
   "mimetype": "text/x-python",
   "name": "python",
   "nbconvert_exporter": "python",
   "pygments_lexer": "ipython2",
   "version": "2.7.13"
  }
 },
 "nbformat": 4,
 "nbformat_minor": 0
}
