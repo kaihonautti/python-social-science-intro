{
 "cells": [
  {
   "cell_type": "markdown",
   "metadata": {},
   "source": [
    "**Function** is used to execute several lines of code in any place needed."
   ]
  },
  {
   "cell_type": "code",
   "execution_count": 3,
   "metadata": {
    "collapsed": false
   },
   "outputs": [
    {
     "name": "stdout",
     "output_type": "stream",
     "text": [
      "Hello world!\n",
      "I am a function\n",
      "Testing... 1\n",
      "Hello world!\n",
      "I am a function\n",
      "Testing... 2\n",
      "Hello world!\n",
      "I am a function\n",
      "Testing... 3\n",
      "Hello world!\n",
      "I am a function\n"
     ]
    }
   ],
   "source": [
    "def hello():\n",
    "    print \"Hello world!\"\n",
    "    print \"I am a function\"\n",
    "    \n",
    "hello()\n",
    "print \"Testing... 1\"\n",
    "hello() \n",
    "print \"Testing... 2\"\n",
    "hello()\n",
    "print \"Testing... 3\"\n",
    "hello() ## used 10 lines of code instead of 11!"
   ]
  },
  {
   "cell_type": "markdown",
   "metadata": {},
   "source": [
    "Function can take a **parameter**, that is a variable used inside the execution of that function"
   ]
  },
  {
   "cell_type": "code",
   "execution_count": 5,
   "metadata": {
    "collapsed": false
   },
   "outputs": [
    {
     "name": "stdout",
     "output_type": "stream",
     "text": [
      "Hello world!\n",
      "I am a function\n",
      "Testing... 1\n",
      "Hello world!\n",
      "I am a function\n",
      "Testing... 2\n",
      "Hello world!\n",
      "I am a function\n",
      "Testing... 3\n",
      "Hello world!\n",
      "I am a function\n"
     ]
    }
   ],
   "source": [
    "def hello2( number ):\n",
    "    print \"Testing...\", number\n",
    "    print \"Hello world!\"\n",
    "    print \"I am a function\"\n",
    "    \n",
    "hello()\n",
    "hello2(1)\n",
    "hello2(2)\n",
    "hello2(3)"
   ]
  },
  {
   "cell_type": "markdown",
   "metadata": {},
   "source": [
    "**Racap!** Can the example above be even more simplified? How?"
   ]
  },
  {
   "cell_type": "code",
   "execution_count": null,
   "metadata": {
    "collapsed": true
   },
   "outputs": [],
   "source": []
  },
  {
   "cell_type": "markdown",
   "metadata": {},
   "source": [
    "Functions can also **return** a spesific value that can be used in further processing of the code."
   ]
  },
  {
   "cell_type": "code",
   "execution_count": 7,
   "metadata": {
    "collapsed": false
   },
   "outputs": [
    {
     "name": "stdout",
     "output_type": "stream",
     "text": [
      "9\n",
      "5\n",
      "18\n",
      "252\n"
     ]
    }
   ],
   "source": [
    "def maths( a, b, c ):\n",
    "    return ( a + b ) * c\n",
    "\n",
    "a = maths( 1, 2, 3 )\n",
    "b = maths( 3, 2, 1 )\n",
    "c = maths( 3, 3, 3 )\n",
    "\n",
    "print a\n",
    "print b\n",
    "print c\n",
    "\n",
    "d = maths( a, b, c)\n",
    "print d"
   ]
  },
  {
   "cell_type": "markdown",
   "metadata": {},
   "source": [
    "**Onboarding**\n",
    "\n",
    "* Create a function which prints `This function works`\n",
    "* Create a function which takes a text parameter and prints it\n",
    "* Create a function which takes a text parameter and returns it\n",
    "* Create a function which returns `This function works`"
   ]
  },
  {
   "cell_type": "code",
   "execution_count": null,
   "metadata": {
    "collapsed": true
   },
   "outputs": [],
   "source": []
  },
  {
   "cell_type": "code",
   "execution_count": null,
   "metadata": {
    "collapsed": true
   },
   "outputs": [],
   "source": []
  },
  {
   "cell_type": "code",
   "execution_count": null,
   "metadata": {
    "collapsed": true
   },
   "outputs": [],
   "source": []
  },
  {
   "cell_type": "code",
   "execution_count": null,
   "metadata": {
    "collapsed": true
   },
   "outputs": [],
   "source": []
  }
 ],
 "metadata": {
  "kernelspec": {
   "display_name": "Python 2",
   "language": "python",
   "name": "python2"
  },
  "language_info": {
   "codemirror_mode": {
    "name": "ipython",
    "version": 2
   },
   "file_extension": ".py",
   "mimetype": "text/x-python",
   "name": "python",
   "nbconvert_exporter": "python",
   "pygments_lexer": "ipython2",
   "version": "2.7.13"
  },
  "widgets": {
   "state": {},
   "version": "1.1.2"
  }
 },
 "nbformat": 4,
 "nbformat_minor": 0
}
