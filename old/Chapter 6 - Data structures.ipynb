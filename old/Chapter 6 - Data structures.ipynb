{
 "cells": [
  {
   "cell_type": "markdown",
   "metadata": {},
   "source": [
    "Data structures are used to store various format of data. Variables are simple data structures, but there are also more complex ones.\n",
    "\n",
    "### List\n",
    "\n",
    "Lists allow you to store variables in a sequence:"
   ]
  },
  {
   "cell_type": "code",
   "execution_count": 2,
   "metadata": {
    "collapsed": false
   },
   "outputs": [
    {
     "name": "stdout",
     "output_type": "stream",
     "text": [
      "[6, 5, 4, 3, 2, 1]\n",
      "6\n",
      "3\n",
      "1\n",
      "List has 6 elements: [6, 5, 4, 3, 2, 1]\n",
      "[6, 5, 4, 3, 1]\n",
      "List has 5 elements: [6, 5, 4, 3, 1]\n"
     ]
    }
   ],
   "source": [
    "numbers = [6, 5, 4, 3, 2] ## create a list using []\n",
    "numbers.append( 1 ) ## add to list\n",
    "print numbers\n",
    "print numbers[0]\n",
    "print numbers[3]\n",
    "print numbers[-1]\n",
    "print \"List has\", len( numbers ), \"elements:\", numbers\n",
    "\n",
    "numbers.remove( 2 ) ## remove a value\n",
    "print numbers\n",
    "\n",
    "print \"List has\", len( numbers ), \"elements:\", numbers"
   ]
  },
  {
   "cell_type": "markdown",
   "metadata": {},
   "source": [
    "**Onboarding**\n",
    "\n",
    "* What is the first word in sentece `We shall learn basics of programming today.`? *(Use `split` and list indexs)*\n",
    "* What is the last word in sentence?\n",
    "* Print each of the words, one per line."
   ]
  },
  {
   "cell_type": "code",
   "execution_count": null,
   "metadata": {
    "collapsed": true
   },
   "outputs": [],
   "source": []
  },
  {
   "cell_type": "markdown",
   "metadata": {},
   "source": [
    "There is often a need to go through a list. You can use the for loops for that purpose (see two different ways to do it too):"
   ]
  },
  {
   "cell_type": "code",
   "execution_count": 5,
   "metadata": {
    "collapsed": false
   },
   "outputs": [
    {
     "name": "stdout",
     "output_type": "stream",
     "text": [
      "6 is on the list!\n",
      "5 is on the list!\n",
      "4 is on the list!\n",
      "3 is on the list!\n",
      "1 is on the list!\n"
     ]
    }
   ],
   "source": [
    "for number in numbers:\n",
    "    print number, 'is on the list!'"
   ]
  },
  {
   "cell_type": "code",
   "execution_count": 6,
   "metadata": {
    "collapsed": false
   },
   "outputs": [
    {
     "name": "stdout",
     "output_type": "stream",
     "text": [
      "0 number on the lists is 6\n",
      "1 number on the lists is 5\n",
      "2 number on the lists is 4\n",
      "3 number on the lists is 3\n",
      "4 number on the lists is 1\n"
     ]
    }
   ],
   "source": [
    "for index, number in enumerate( numbers ):\n",
    "    print index, 'number on the lists is', number"
   ]
  },
  {
   "cell_type": "markdown",
   "metadata": {},
   "source": [
    "**Onboarding**\n",
    "\n",
    "* Show all worlds in the sentence `We shall learn basics of programming today.``\n",
    "* Print the prime ministers of Finland by their surname only."
   ]
  },
  {
   "cell_type": "code",
   "execution_count": null,
   "metadata": {
    "collapsed": true
   },
   "outputs": [],
   "source": []
  },
  {
   "cell_type": "markdown",
   "metadata": {},
   "source": [
    "## Dictonaries\n",
    "\n",
    "Dictonaries allow you to store an variable using key, value structure. That means that one store pairs of items and can access the valu using the key."
   ]
  },
  {
   "cell_type": "code",
   "execution_count": 7,
   "metadata": {
    "collapsed": false
   },
   "outputs": [
    {
     "name": "stdout",
     "output_type": "stream",
     "text": [
      "KOK\n",
      "Sipilä on ehdokas\n",
      "Nelimarkka ei ole ehdokas\n",
      "Soini PS\n",
      "Sipila KESK\n",
      "Haavisto Vihreat\n",
      "Pekkarinen KESK\n",
      "Rinne SDP\n",
      "Arhimäki VAS\n",
      "Andersson VAS\n",
      "Stubb KOK\n"
     ]
    }
   ],
   "source": [
    "candidates = {\n",
    "   'Stubb' : 'KOK',\n",
    "   'Rinne' : 'SDP',\n",
    "   'Soini' : 'PS',\n",
    "   'Haavisto' : 'Vihreat',\n",
    "   'Arhimäki' : 'VAS',\n",
    "   'Andersson' : 'VAS',\n",
    "   'Pekkarinen' : 'KESK',\n",
    "   'Sipila' : 'KESK'  \n",
    "}\n",
    "\n",
    "print candidates['Stubb']\n",
    "\n",
    "if 'Sipila' in candidates:\n",
    "    print 'Sipilä on ehdokas'\n",
    "else:\n",
    "    print 'Sipilä ei ole ehdokas'\n",
    "    \n",
    "if 'Nelimarkka' in candidates:\n",
    "    print 'Nelimarkka on ehdokas'\n",
    "else:\n",
    "    print 'Nelimarkka ei ole ehdokas'\n",
    "\n",
    "for candidate, party in candidates.items():\n",
    "    \n",
    "    print candidate, party"
   ]
  },
  {
   "cell_type": "markdown",
   "metadata": {},
   "source": [
    "**Onboarding**\n",
    "\n",
    "* Print the party of candidate Rinne\n",
    "* Print all candidate names in separate lines\n",
    "* Print all candidate parties in separate lines\n",
    "* Test if 'Kekkonen' is a candidate\n",
    "* Add Kekkonen (party: KESK) to candidate list\n",
    "* Print the number of candidates in different parties. *Hint: use dictionary to collect the frequencies.*\n",
    "* How many different prime ministers Finland has had? *Hint: use the dictonary to collect the frequencies of each prime minsiters name and then count how many keys you have in that dictonary.*"
   ]
  },
  {
   "cell_type": "code",
   "execution_count": null,
   "metadata": {
    "collapsed": true
   },
   "outputs": [],
   "source": []
  }
 ],
 "metadata": {
  "kernelspec": {
   "display_name": "Python 2",
   "language": "python",
   "name": "python2"
  },
  "language_info": {
   "codemirror_mode": {
    "name": "ipython",
    "version": 2
   },
   "file_extension": ".py",
   "mimetype": "text/x-python",
   "name": "python",
   "nbconvert_exporter": "python",
   "pygments_lexer": "ipython2",
   "version": "2.7.13"
  },
  "widgets": {
   "state": {},
   "version": "1.1.2"
  }
 },
 "nbformat": 4,
 "nbformat_minor": 0
}
