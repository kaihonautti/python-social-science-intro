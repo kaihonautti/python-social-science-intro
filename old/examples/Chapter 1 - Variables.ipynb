{
 "cells": [
  {
   "cell_type": "markdown",
   "metadata": {},
   "source": [
    "Various things stored in the computer can be displayed to users via *printing* them. In Pythn this is done via the command `print`."
   ]
  },
  {
   "cell_type": "code",
   "execution_count": 1,
   "metadata": {
    "collapsed": false
   },
   "outputs": [
    {
     "name": "stdout",
     "output_type": "stream",
     "text": [
      "5\n",
      "20\n",
      "7\n"
     ]
    }
   ],
   "source": [
    "print 5\n",
    "print 20\n",
    "print 7"
   ]
  },
  {
   "cell_type": "markdown",
   "metadata": {},
   "source": [
    "**Onboarding**\n",
    "\n",
    "* Print your age\n",
    "* Print this year\n",
    "* Print 5 - 3\n",
    "* Print 5 / 2.0"
   ]
  },
  {
   "cell_type": "code",
   "execution_count": 1,
   "metadata": {
    "collapsed": false
   },
   "outputs": [
    {
     "name": "stdout",
     "output_type": "stream",
     "text": [
      "30\n",
      "2016\n",
      "2\n",
      "2.5\n"
     ]
    }
   ],
   "source": [
    "print 99\n",
    "print 2016\n",
    "print 5-3\n",
    "print 5/2.0"
   ]
  },
  {
   "cell_type": "markdown",
   "metadata": {},
   "source": [
    "Programming can do much more than just printing numbers and doing computations. We can for example print also text!"
   ]
  },
  {
   "cell_type": "code",
   "execution_count": 2,
   "metadata": {
    "collapsed": false
   },
   "outputs": [
    {
     "name": "stdout",
     "output_type": "stream",
     "text": [
      "Hello world\n",
      "I'm coding!\n"
     ]
    }
   ],
   "source": [
    "print \"Hello world\"\n",
    "print \"I'm coding!\""
   ]
  },
  {
   "cell_type": "markdown",
   "metadata": {},
   "source": [
    "Things can also be stored into computers \"short term\" memory through variables."
   ]
  },
  {
   "cell_type": "code",
   "execution_count": 3,
   "metadata": {
    "collapsed": false
   },
   "outputs": [
    {
     "name": "stdout",
     "output_type": "stream",
     "text": [
      "x is now 7\n",
      "x is now 10\n"
     ]
    }
   ],
   "source": [
    "x = 7\n",
    "print \"x is now\", x\n",
    "x = 10\n",
    "print \"x is now\", x"
   ]
  },
  {
   "cell_type": "markdown",
   "metadata": {},
   "source": [
    "Variables can be increased to each others!"
   ]
  },
  {
   "cell_type": "code",
   "execution_count": 4,
   "metadata": {
    "collapsed": false
   },
   "outputs": [
    {
     "name": "stdout",
     "output_type": "stream",
     "text": [
      "x is now 5\n",
      "y is now 10\n",
      "x is now 6\n",
      "y is now 10\n"
     ]
    }
   ],
   "source": [
    "x = 5\n",
    "y = x + 5\n",
    "\n",
    "print \"x is now\", x\n",
    "print \"y is now\", y\n",
    "\n",
    "## this is a comment. it is never executed\n",
    "## here we increase x by one\n",
    "## what happens to y? why?\n",
    "\n",
    "x = x + 1\n",
    "print \"x is now\", x\n",
    "print \"y is now\", y"
   ]
  },
  {
   "cell_type": "markdown",
   "metadata": {},
   "source": [
    "**Onboarding**\n",
    "\n",
    "* Create a new variable and store this year to it\n",
    "* Create another variable and store your birth year to it\n",
    "* Using these two variables, compute your age to a new variable and print it\n",
    "* How about five years to the future?"
   ]
  },
  {
   "cell_type": "code",
   "execution_count": 3,
   "metadata": {
    "collapsed": false
   },
   "outputs": [
    {
     "name": "stdout",
     "output_type": "stream",
     "text": [
      "116\n"
     ]
    }
   ],
   "source": [
    "this_year = 2016\n",
    "birth_year = 1900\n",
    "print this_year - birth_year"
   ]
  },
  {
   "cell_type": "code",
   "execution_count": 4,
   "metadata": {
    "collapsed": false
   },
   "outputs": [
    {
     "name": "stdout",
     "output_type": "stream",
     "text": [
      "121\n"
     ]
    }
   ],
   "source": [
    "this_year = 2016 + 5 ## note, the only change done!\n",
    "birth_year = 1900\n",
    "print this_year - birth_year"
   ]
  },
  {
   "cell_type": "code",
   "execution_count": null,
   "metadata": {
    "collapsed": true
   },
   "outputs": [],
   "source": []
  }
 ],
 "metadata": {
  "kernelspec": {
   "display_name": "Python 2",
   "language": "python",
   "name": "python2"
  },
  "language_info": {
   "codemirror_mode": {
    "name": "ipython",
    "version": 2
   },
   "file_extension": ".py",
   "mimetype": "text/x-python",
   "name": "python",
   "nbconvert_exporter": "python",
   "pygments_lexer": "ipython2",
   "version": "2.7.12"
  }
 },
 "nbformat": 4,
 "nbformat_minor": 0
}
