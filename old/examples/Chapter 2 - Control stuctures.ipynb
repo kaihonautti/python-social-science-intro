{
 "cells": [
  {
   "cell_type": "markdown",
   "metadata": {},
   "source": [
    "There is often a need to repeate same ideas over and over againg. Thats why **loopping** structures exists for programming languages. In Python, the structure looks following: `for (variable name) in (thing that can be iterated):`, or as seen below:"
   ]
  },
  {
   "cell_type": "code",
   "execution_count": 2,
   "metadata": {
    "collapsed": false
   },
   "outputs": [
    {
     "name": "stdout",
     "output_type": "stream",
     "text": [
      "1\n",
      "2\n",
      "4\n",
      "8\n",
      "16\n",
      "32\n"
     ]
    }
   ],
   "source": [
    "for current_number in [1,2,4,8,16,32]:\n",
    "    print current_number"
   ]
  },
  {
   "cell_type": "markdown",
   "metadata": {},
   "source": [
    "A more practical example of same thing is when one computers the sum of numbers:"
   ]
  },
  {
   "cell_type": "code",
   "execution_count": 3,
   "metadata": {
    "collapsed": false
   },
   "outputs": [
    {
     "name": "stdout",
     "output_type": "stream",
     "text": [
      "63\n"
     ]
    }
   ],
   "source": [
    "total = 0 ## start from zero\n",
    "for current_number in [1,2,4,8,16,32]:\n",
    "    total = total + current_number ## total is always the existing total + the current number\n",
    "print total"
   ]
  },
  {
   "cell_type": "markdown",
   "metadata": {},
   "source": [
    "**Onboarding**\n",
    "\n",
    "* What is the mean of numbers 1, 10, 4, 7, 8, 10, 3?\n",
    "* For numbers 7, 9, 3, 6, 8 print the double of that number."
   ]
  },
  {
   "cell_type": "code",
   "execution_count": 1,
   "metadata": {
    "collapsed": false
   },
   "outputs": [
    {
     "name": "stdout",
     "output_type": "stream",
     "text": [
      "6.14285714286\n"
     ]
    }
   ],
   "source": [
    "sum_of_numbers = 0.0\n",
    "count_of_numbers = 0\n",
    "\n",
    "for number in [1, 10, 4, 7, 8, 10, 3]:\n",
    "    sum_of_numbers = sum_of_numbers + number\n",
    "    count_of_numbers = count_of_numbers + 1\n",
    "\n",
    "print sum_of_numbers / count_of_numbers"
   ]
  },
  {
   "cell_type": "code",
   "execution_count": 2,
   "metadata": {
    "collapsed": false
   },
   "outputs": [
    {
     "name": "stdout",
     "output_type": "stream",
     "text": [
      "14\n",
      "18\n",
      "6\n",
      "12\n",
      "16\n"
     ]
    }
   ],
   "source": [
    "for number in [7, 9, 3, 6, 8]:\n",
    "    print 2 * number"
   ]
  },
  {
   "cell_type": "markdown",
   "metadata": {},
   "source": [
    "Furthermore, it is possible to branch the code based on various **conditions**. Those are marked with `if (condition):`. Note that to check equality, you need to use `==` instead of `=` (which is used only for variable replacement."
   ]
  },
  {
   "cell_type": "code",
   "execution_count": 5,
   "metadata": {
    "collapsed": false
   },
   "outputs": [
    {
     "name": "stdout",
     "output_type": "stream",
     "text": [
      "2\n",
      "4\n",
      "6\n",
      "8\n",
      "10\n"
     ]
    }
   ],
   "source": [
    "for number in [1,2,3,4,5,6,7,8,9,10]:\n",
    "    if number % 2 == 0: ## can be divided with two?\n",
    "        print number"
   ]
  },
  {
   "cell_type": "code",
   "execution_count": 8,
   "metadata": {
    "collapsed": false
   },
   "outputs": [
    {
     "name": "stdout",
     "output_type": "stream",
     "text": [
      "Here is an example\n",
      "Here is an example HAS IS\n",
      "Here is another example\n",
      "Here is another example HAS IS\n",
      "But those aren't good examples\n"
     ]
    }
   ],
   "source": [
    "for sentence in [\"Here is an example\", \"Here is another example\", \"But those aren't good examples\"]:\n",
    "    print sentence\n",
    "    if 'is' in sentence:\n",
    "        print sentence, \"HAS IS\""
   ]
  },
  {
   "cell_type": "markdown",
   "metadata": {},
   "source": [
    "**Onboarding**\n",
    "\n",
    "* What is the sum of numbers that can be divided by 4 between numbers 4 to 15?\n",
    "* How many times world \"cat\" exists in this list `['cats are cool', 'dogs are cool also', 'and cats say meow']`"
   ]
  },
  {
   "cell_type": "code",
   "execution_count": 3,
   "metadata": {
    "collapsed": false
   },
   "outputs": [
    {
     "name": "stdout",
     "output_type": "stream",
     "text": [
      "24\n"
     ]
    }
   ],
   "source": [
    "sums = 0\n",
    "\n",
    "for number in [4,5,6,7,8,9,10,11,12,13,15]:\n",
    "    \n",
    "    if number % 4 == 0: ## check if can be divided by 4\n",
    "        sums = sums + number\n",
    "        \n",
    "print sums"
   ]
  },
  {
   "cell_type": "code",
   "execution_count": 4,
   "metadata": {
    "collapsed": false
   },
   "outputs": [
    {
     "name": "stdout",
     "output_type": "stream",
     "text": [
      "2\n"
     ]
    }
   ],
   "source": [
    "counter = 0\n",
    "\n",
    "for text in ['cats are cool', 'dogs are cool also', 'and cats say meow']:\n",
    "    \n",
    "    if 'cat' in text:\n",
    "        counter = counter + 1\n",
    "        \n",
    "print counter"
   ]
  },
  {
   "cell_type": "code",
   "execution_count": null,
   "metadata": {
    "collapsed": true
   },
   "outputs": [],
   "source": []
  }
 ],
 "metadata": {
  "kernelspec": {
   "display_name": "Python 2",
   "language": "python",
   "name": "python2"
  },
  "language_info": {
   "codemirror_mode": {
    "name": "ipython",
    "version": 2
   },
   "file_extension": ".py",
   "mimetype": "text/x-python",
   "name": "python",
   "nbconvert_exporter": "python",
   "pygments_lexer": "ipython2",
   "version": "2.7.12"
  }
 },
 "nbformat": 4,
 "nbformat_minor": 0
}
