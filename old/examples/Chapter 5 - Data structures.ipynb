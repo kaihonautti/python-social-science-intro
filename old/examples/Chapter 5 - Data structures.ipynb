{
 "cells": [
  {
   "cell_type": "markdown",
   "metadata": {},
   "source": [
    "Data structures are used to store various format of data. Variables are simple data structures, but there are also more complex ones.\n",
    "\n",
    "**Lists** allow you to store variables in a sequence:"
   ]
  },
  {
   "cell_type": "code",
   "execution_count": 5,
   "metadata": {
    "collapsed": false
   },
   "outputs": [
    {
     "name": "stdout",
     "output_type": "stream",
     "text": [
      "[0, 0, 0, 1, 1, 1]\n",
      "0\n",
      "1\n",
      "1\n",
      "List has 6 elements: [0, 0, 0, 1, 1, 1]\n",
      "[0, 0, 0, 1, 1]\n",
      "List has 5 elements: [0, 0, 0, 1, 1]\n"
     ]
    }
   ],
   "source": [
    "l = [0, 0, 0, 1, 1] ## create a list using []\n",
    "l.append( 1 ) ## add to list\n",
    "print l\n",
    "print l[0]\n",
    "print l[3]\n",
    "print l[-1]\n",
    "print \"List has\", len( l ), \"elements:\", l\n",
    "\n",
    "l.remove( 1 ) ## remove a value\n",
    "print l\n",
    "\n",
    "print \"List has\", len( l ), \"elements:\", l"
   ]
  },
  {
   "cell_type": "markdown",
   "metadata": {},
   "source": [
    "**Onboarding**\n",
    "\n",
    "* What is the first word in sentece `I shall learn basics of programming today.`? *(Use `split` and list indexs)*\n",
    "* What is the last word in sentence?\n",
    "* Print each of the words, one per line.\n",
    "* Create an empty list and add some numbers to it and remove those.\n",
    "* What is the highest value on this list?"
   ]
  },
  {
   "cell_type": "code",
   "execution_count": 10,
   "metadata": {
    "collapsed": false
   },
   "outputs": [
    {
     "name": "stdout",
     "output_type": "stream",
     "text": [
      "I\n",
      "today.\n",
      "[0, 1, 2, 3, 4, 5, 6, 7]\n",
      "[]\n",
      "7\n"
     ]
    }
   ],
   "source": [
    "sentence = 'I shall learn basics of programming today.'\n",
    "sentence2 = sentence.split(' ')\n",
    "print sentence2[0]\n",
    "print sentence2[-1]\n",
    "\n",
    "li = []\n",
    "\n",
    "for item in [0,1,2,3,4,5,6,7]:\n",
    "    li.append( item )\n",
    "    \n",
    "print li\n",
    "\n",
    "for i in [0,1,2,3,4,5,6,7]:\n",
    "    li.remove( i )\n",
    "    \n",
    "print li\n",
    "\n",
    "li = [0,1,2,3,4,5,6,7,3]\n",
    "\n",
    "highest = li[0]\n",
    "\n",
    "for item in li:\n",
    "    if item > highest:\n",
    "        highest = item\n",
    "\n",
    "print highest"
   ]
  },
  {
   "cell_type": "markdown",
   "metadata": {},
   "source": [
    "**Dictonaries** allow you to store an variable using key, value structure. That means that one store pairs of items and can access the valu using the key."
   ]
  },
  {
   "cell_type": "code",
   "execution_count": 11,
   "metadata": {
    "collapsed": false
   },
   "outputs": [
    {
     "name": "stdout",
     "output_type": "stream",
     "text": [
      "KOK\n",
      "Sipilä on ehdokas\n",
      "Nelimarkka ei ole ehdokas\n",
      "Soini PS\n",
      "Sipila KESK\n",
      "Haavisto Vihreat\n",
      "Pekkarinen KESK\n",
      "Rinne SDP\n",
      "Arhimäki VAS\n",
      "Andersson VAS\n",
      "Stubb KOK\n"
     ]
    }
   ],
   "source": [
    "candidate = {\n",
    "   'Stubb' : 'KOK',\n",
    "   'Rinne' : 'SDP',\n",
    "   'Soini' : 'PS',\n",
    "   'Haavisto' : 'Vihreat',\n",
    "   'Arhimäki' : 'VAS',\n",
    "   'Andersson' : 'VAS',\n",
    "   'Pekkarinen' : 'KESK',\n",
    "   'Sipila' : 'KESK'  \n",
    "}\n",
    "\n",
    "print candidate['Stubb']\n",
    "\n",
    "if 'Sipila' in candidate:\n",
    "    print 'Sipilä on ehdokas'\n",
    "else:\n",
    "    print 'Sipilä ei ole ehdokas'\n",
    "    \n",
    "if 'Nelimarkka' in candidate:\n",
    "    print 'Nelimarkka on ehdokas'\n",
    "else:\n",
    "    print 'Nelimarkka ei ole ehdokas'\n",
    "\n",
    "for i, j in candidate.items():\n",
    "    \n",
    "    print i, j"
   ]
  },
  {
   "cell_type": "markdown",
   "metadata": {},
   "source": [
    "**Onboarding**\n",
    "\n",
    "* Print the party of candidate Rinne\n",
    "* Print all candidate names in separate lines\n",
    "* Print all candidate parties in separate lines\n",
    "* Test if 'Kekkonen' is a candidate\n",
    "* Add Kekkonen (party: KESK) to candidate list\n",
    "* Print the number of candidates in different parties. *Hint: use dictionary to collect the frequencies.*"
   ]
  },
  {
   "cell_type": "code",
   "execution_count": 12,
   "metadata": {
    "collapsed": false
   },
   "outputs": [
    {
     "name": "stdout",
     "output_type": "stream",
     "text": [
      "SDP\n"
     ]
    }
   ],
   "source": [
    "print candidate['Rinne']"
   ]
  },
  {
   "cell_type": "code",
   "execution_count": 13,
   "metadata": {
    "collapsed": false
   },
   "outputs": [
    {
     "name": "stdout",
     "output_type": "stream",
     "text": [
      "Soini\n",
      "Sipila\n",
      "Haavisto\n",
      "Pekkarinen\n",
      "Rinne\n",
      "Arhimäki\n",
      "Andersson\n",
      "Stubb\n"
     ]
    }
   ],
   "source": [
    "for i, j in candidate.items():\n",
    "    \n",
    "    print i"
   ]
  },
  {
   "cell_type": "code",
   "execution_count": 14,
   "metadata": {
    "collapsed": false
   },
   "outputs": [
    {
     "name": "stdout",
     "output_type": "stream",
     "text": [
      "PS\n",
      "KESK\n",
      "Vihreat\n",
      "KESK\n",
      "SDP\n",
      "VAS\n",
      "VAS\n",
      "KOK\n"
     ]
    }
   ],
   "source": [
    "for i, j in candidate.items():\n",
    "    \n",
    "    print j"
   ]
  },
  {
   "cell_type": "code",
   "execution_count": 15,
   "metadata": {
    "collapsed": true
   },
   "outputs": [],
   "source": [
    "for i, j in candidate.items():\n",
    "    \n",
    "    if 'Kekkonen' == i:\n",
    "        print 'Kekkonen'"
   ]
  },
  {
   "cell_type": "code",
   "execution_count": 16,
   "metadata": {
    "collapsed": false
   },
   "outputs": [
    {
     "name": "stdout",
     "output_type": "stream",
     "text": [
      "Kekkonen\n"
     ]
    }
   ],
   "source": [
    "candidate['Kekkonen'] = 'KESK'\n",
    "\n",
    "for i, j in candidate.items():\n",
    "    \n",
    "    if 'Kekkonen' == i:\n",
    "        print 'Kekkonen'"
   ]
  },
  {
   "cell_type": "code",
   "execution_count": 17,
   "metadata": {
    "collapsed": false
   },
   "outputs": [
    {
     "name": "stdout",
     "output_type": "stream",
     "text": [
      "{'PS': 1, 'Vihreat': 1, 'SDP': 1, 'KOK': 1, 'KESK': 3, 'VAS': 2}\n"
     ]
    }
   ],
   "source": [
    "candidate_numbers = {}\n",
    "\n",
    "## first initialise to zeros\n",
    "for i, j in candidate.items():\n",
    "    \n",
    "    candidate_numbers[j] = 0\n",
    "    \n",
    "## then count\n",
    "\n",
    "for i, j in candidate.items():\n",
    "    \n",
    "    candidate_numbers[j] = candidate_numbers[j] + 1\n",
    "    \n",
    "print candidate_numbers"
   ]
  },
  {
   "cell_type": "code",
   "execution_count": null,
   "metadata": {
    "collapsed": true
   },
   "outputs": [],
   "source": []
  }
 ],
 "metadata": {
  "kernelspec": {
   "display_name": "Python 2",
   "language": "python",
   "name": "python2"
  },
  "language_info": {
   "codemirror_mode": {
    "name": "ipython",
    "version": 2
   },
   "file_extension": ".py",
   "mimetype": "text/x-python",
   "name": "python",
   "nbconvert_exporter": "python",
   "pygments_lexer": "ipython2",
   "version": "2.7.12"
  }
 },
 "nbformat": 4,
 "nbformat_minor": 0
}
